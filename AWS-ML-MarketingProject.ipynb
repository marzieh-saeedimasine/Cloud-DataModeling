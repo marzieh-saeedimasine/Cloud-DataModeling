{
 "cells": [
  {
   "cell_type": "code",
   "execution_count": 31,
   "id": "be38754d",
   "metadata": {},
   "outputs": [],
   "source": [
    "import os\n",
    "import numpy as np\n",
    "import pandas as pd\n",
    "import urllib\n",
    "import sagemaker, boto3\n",
    "from sagemaker.amazon.amazon_estimator import get_image_uri\n",
    "from sagemaker.session import s3_input, Session\n",
    "from sagemaker.inputs import TrainingInput\n",
    "from sagemaker.serializers import CSVSerializer\n",
    "from sklearn.model_selection import train_test_split\n",
    "from sklearn.metrics import confusion_matrix,classification_report"
   ]
  },
  {
   "cell_type": "markdown",
   "id": "22629c25",
   "metadata": {},
   "source": [
    "# Create S3 bucket"
   ]
  },
  {
   "cell_type": "code",
   "execution_count": 2,
   "id": "fc1a98ee",
   "metadata": {},
   "outputs": [
    {
     "data": {
      "text/plain": [
       "'eu-central-1'"
      ]
     },
     "execution_count": 2,
     "metadata": {},
     "output_type": "execute_result"
    }
   ],
   "source": [
    "region=boto3.session.Session().region_name\n",
    "region"
   ]
  },
  {
   "cell_type": "code",
   "execution_count": 6,
   "id": "cc0007c1",
   "metadata": {},
   "outputs": [
    {
     "data": {
      "text/plain": [
       "s3.Bucket(name='marzieh-bank-project')"
      ]
     },
     "execution_count": 6,
     "metadata": {},
     "output_type": "execute_result"
    }
   ],
   "source": [
    "s3 = boto3.resource('s3')\n",
    "bucket_name = \"marzieh-bank-project\"  \n",
    "\n",
    "# Create an S3 bucket with the specified region\n",
    "s3.create_bucket(\n",
    "    Bucket=bucket_name,\n",
    "    CreateBucketConfiguration={'LocationConstraint': region})"
   ]
  },
  {
   "cell_type": "markdown",
   "id": "55cd4da1",
   "metadata": {},
   "source": [
    "# Downloading dataset inside the instance"
   ]
  },
  {
   "cell_type": "code",
   "execution_count": 7,
   "id": "4b28e978",
   "metadata": {},
   "outputs": [
    {
     "name": "stdout",
     "output_type": "stream",
     "text": [
      "(41188, 61) (28831, 61) (12357, 61)\n"
     ]
    }
   ],
   "source": [
    "urllib.request.urlretrieve (\"https://d1.awsstatic.com/tmt/build-train-deploy-machine-learning-model-sagemaker/bank_clean.27f01fbbdf43271788427f3682996ae29ceca05d.csv\",\n",
    "                            \"bank_clean.csv\")\n",
    "\n",
    "model_data = pd.read_csv('./bank_clean.csv',index_col=0)\n",
    "train,test=train_test_split(model_data,test_size=0.3,random_state=1729)\n",
    "print(model_data.shape,train.shape,test.shape)"
   ]
  },
  {
   "cell_type": "markdown",
   "id": "e52d6144",
   "metadata": {},
   "source": [
    "# Store train/test data in S3 bucket"
   ]
  },
  {
   "cell_type": "code",
   "execution_count": 8,
   "id": "77602b51",
   "metadata": {},
   "outputs": [],
   "source": [
    "#make a data format corresponding to sagemaker\n",
    "pd.concat([train['y_yes'], train.drop(['y_no', 'y_yes'], \n",
    "                                                axis=1)], \n",
    "                                                axis=1).to_csv('train.csv', index=False, header=False)\n",
    "\n",
    "pd.concat([test['y_yes'], test.drop(['y_no', 'y_yes'], \n",
    "                                                axis=1)], \n",
    "                                                axis=1).to_csv('test.csv', index=False, header=False)\n",
    "\n",
    "prefix = 'xgboost'\n",
    "boto3.Session().resource('s3').Bucket(bucket_name).Object(os.path.join(prefix, 'train/train.csv')).upload_file('train.csv')\n",
    "boto3.Session().resource('s3').Bucket(bucket_name).Object(os.path.join(prefix, 'test/test.csv')).upload_file('test.csv')\n",
    "\n",
    "\n",
    "s3_input_train = TrainingInput(s3_data='s3://{}/{}/train'.format(bucket_name, prefix), content_type='csv')\n",
    "s3_input_test = TrainingInput(s3_data='s3://{}/{}/test'.format(bucket_name, prefix), content_type='csv')"
   ]
  },
  {
   "cell_type": "code",
   "execution_count": 10,
   "id": "60f29c22",
   "metadata": {},
   "outputs": [
    {
     "name": "stdout",
     "output_type": "stream",
     "text": [
      "s3://marzieh-bank-project/xgboost/output\n"
     ]
    }
   ],
   "source": [
    "output_path ='s3://{}/{}/output'.format(bucket_name, prefix)\n",
    "print(output_path)"
   ]
  },
  {
   "cell_type": "markdown",
   "id": "948c12d9",
   "metadata": {},
   "source": [
    "# Building model of Xgboot"
   ]
  },
  {
   "cell_type": "code",
   "execution_count": 16,
   "id": "ceecd1df",
   "metadata": {},
   "outputs": [
    {
     "name": "stderr",
     "output_type": "stream",
     "text": [
      "The method get_image_uri has been renamed in sagemaker>=2.\n",
      "See: https://sagemaker.readthedocs.io/en/stable/v2.html for details.\n",
      "train_instance_count has been renamed in sagemaker>=2.\n",
      "See: https://sagemaker.readthedocs.io/en/stable/v2.html for details.\n",
      "train_instance_type has been renamed in sagemaker>=2.\n",
      "See: https://sagemaker.readthedocs.io/en/stable/v2.html for details.\n",
      "train_max_run has been renamed in sagemaker>=2.\n",
      "See: https://sagemaker.readthedocs.io/en/stable/v2.html for details.\n",
      "train_use_spot_instances has been renamed in sagemaker>=2.\n",
      "See: https://sagemaker.readthedocs.io/en/stable/v2.html for details.\n",
      "train_max_wait has been renamed in sagemaker>=2.\n",
      "See: https://sagemaker.readthedocs.io/en/stable/v2.html for details.\n",
      "train_volume_size has been renamed in sagemaker>=2.\n",
      "See: https://sagemaker.readthedocs.io/en/stable/v2.html for details.\n"
     ]
    }
   ],
   "source": [
    "#make a image of model for xgboost machine learning method\n",
    "container = get_image_uri(boto3.Session().region_name,'xgboost')   \n",
    "\n",
    "hyperparameters = {\n",
    "        \"max_depth\":\"5\",\n",
    "        \"eta\":\"0.2\",\n",
    "        \"gamma\":\"4\",\n",
    "        \"min_child_weight\":\"6\",\n",
    "        \"subsample\":\"0.7\",\n",
    "        \"objective\":\"binary:logistic\",\n",
    "        \"num_round\":50\n",
    "        }   \n",
    "\n",
    "estimator = sagemaker.estimator.Estimator(image_uri=container, \n",
    "                                          hyperparameters=hyperparameters,\n",
    "                                          output_path=output_path,\n",
    "                                          role=sagemaker.get_execution_role(),\n",
    "                                          train_instance_count=1, \n",
    "                                          train_instance_type='ml.m5.2xlarge', \n",
    "                                          train_volume_size=5, # 5 GB                                           \n",
    "                                          train_use_spot_instances=True,\n",
    "                                          train_max_run=300,\n",
    "                                          train_max_wait=600)"
   ]
  },
  {
   "cell_type": "markdown",
   "id": "23314e92",
   "metadata": {},
   "source": [
    "# Traning the model"
   ]
  },
  {
   "cell_type": "code",
   "execution_count": 17,
   "id": "03083988",
   "metadata": {},
   "outputs": [
    {
     "name": "stderr",
     "output_type": "stream",
     "text": [
      "INFO:sagemaker:Creating training-job with name: xgboost-2024-08-20-09-28-50-065\n"
     ]
    },
    {
     "name": "stdout",
     "output_type": "stream",
     "text": [
      "2024-08-20 09:28:50 Starting - Starting the training job...\n",
      "2024-08-20 09:29:20 Starting - Preparing the instances for training...\n",
      "2024-08-20 09:29:39 Downloading - Downloading input data...\n",
      "2024-08-20 09:29:55 Downloading - Downloading the training image...\n",
      "2024-08-20 09:30:30 Training - Training image download completed. Training in progress..\u001b[34mArguments: train\u001b[0m\n",
      "\u001b[34m[2024-08-20:09:30:48:INFO] Running standalone xgboost training.\u001b[0m\n",
      "\u001b[34m[2024-08-20:09:30:48:INFO] File size need to be processed in the node: 4.83mb. Available memory size in the node: 23862.5mb\u001b[0m\n",
      "\u001b[34m[2024-08-20:09:30:48:INFO] Determined delimiter of CSV input is ','\u001b[0m\n",
      "\u001b[34m[09:30:48] S3DistributionType set as FullyReplicated\u001b[0m\n",
      "\u001b[34m[09:30:48] 28831x59 matrix with 1701029 entries loaded from /opt/ml/input/data/train?format=csv&label_column=0&delimiter=,\u001b[0m\n",
      "\u001b[34m[2024-08-20:09:30:48:INFO] Determined delimiter of CSV input is ','\u001b[0m\n",
      "\u001b[34m[09:30:48] S3DistributionType set as FullyReplicated\u001b[0m\n",
      "\u001b[34m[09:30:48] 12357x59 matrix with 729063 entries loaded from /opt/ml/input/data/validation?format=csv&label_column=0&delimiter=,\u001b[0m\n",
      "\u001b[34m[09:30:48] src/tree/updater_prune.cc:74: tree pruning end, 1 roots, 26 extra nodes, 12 pruned nodes, max_depth=5\u001b[0m\n",
      "\u001b[34m[0]#011train-error:0.103396#011validation-error:0.102533\u001b[0m\n",
      "\u001b[34m[09:30:48] src/tree/updater_prune.cc:74: tree pruning end, 1 roots, 26 extra nodes, 12 pruned nodes, max_depth=5\u001b[0m\n",
      "\u001b[34m[1]#011train-error:0.102875#011validation-error:0.098325\u001b[0m\n",
      "\u001b[34m[09:30:48] src/tree/updater_prune.cc:74: tree pruning end, 1 roots, 24 extra nodes, 18 pruned nodes, max_depth=5\u001b[0m\n",
      "\u001b[34m[2]#011train-error:0.102182#011validation-error:0.097839\u001b[0m\n",
      "\u001b[34m[09:30:48] src/tree/updater_prune.cc:74: tree pruning end, 1 roots, 30 extra nodes, 14 pruned nodes, max_depth=5\u001b[0m\n",
      "\u001b[34m[3]#011train-error:0.102529#011validation-error:0.097516\u001b[0m\n",
      "\u001b[34m[09:30:48] src/tree/updater_prune.cc:74: tree pruning end, 1 roots, 30 extra nodes, 12 pruned nodes, max_depth=5\u001b[0m\n",
      "\u001b[34m[4]#011train-error:0.102737#011validation-error:0.098325\u001b[0m\n",
      "\u001b[34m[09:30:49] src/tree/updater_prune.cc:74: tree pruning end, 1 roots, 22 extra nodes, 16 pruned nodes, max_depth=5\u001b[0m\n",
      "\u001b[34m[5]#011train-error:0.102667#011validation-error:0.097839\u001b[0m\n",
      "\u001b[34m[09:30:49] src/tree/updater_prune.cc:74: tree pruning end, 1 roots, 32 extra nodes, 16 pruned nodes, max_depth=5\u001b[0m\n",
      "\u001b[34m[6]#011train-error:0.102563#011validation-error:0.097677\u001b[0m\n",
      "\u001b[34m[09:30:49] src/tree/updater_prune.cc:74: tree pruning end, 1 roots, 28 extra nodes, 12 pruned nodes, max_depth=5\u001b[0m\n",
      "\u001b[34m[7]#011train-error:0.102529#011validation-error:0.097758\u001b[0m\n",
      "\u001b[34m[09:30:49] src/tree/updater_prune.cc:74: tree pruning end, 1 roots, 26 extra nodes, 22 pruned nodes, max_depth=5\u001b[0m\n",
      "\u001b[34m[8]#011train-error:0.102529#011validation-error:0.097758\u001b[0m\n",
      "\u001b[34m[09:30:49] src/tree/updater_prune.cc:74: tree pruning end, 1 roots, 26 extra nodes, 12 pruned nodes, max_depth=5\u001b[0m\n",
      "\u001b[34m[9]#011train-error:0.102563#011validation-error:0.098001\u001b[0m\n",
      "\u001b[34m[09:30:49] src/tree/updater_prune.cc:74: tree pruning end, 1 roots, 36 extra nodes, 4 pruned nodes, max_depth=5\u001b[0m\n",
      "\u001b[34m[10]#011train-error:0.102459#011validation-error:0.098244\u001b[0m\n",
      "\u001b[34m[09:30:49] src/tree/updater_prune.cc:74: tree pruning end, 1 roots, 26 extra nodes, 22 pruned nodes, max_depth=5\u001b[0m\n",
      "\u001b[34m[11]#011train-error:0.101627#011validation-error:0.098729\u001b[0m\n",
      "\u001b[34m[09:30:49] src/tree/updater_prune.cc:74: tree pruning end, 1 roots, 20 extra nodes, 10 pruned nodes, max_depth=5\u001b[0m\n",
      "\u001b[34m[12]#011train-error:0.101696#011validation-error:0.098568\u001b[0m\n",
      "\u001b[34m[09:30:49] src/tree/updater_prune.cc:74: tree pruning end, 1 roots, 32 extra nodes, 18 pruned nodes, max_depth=5\u001b[0m\n",
      "\u001b[34m[13]#011train-error:0.1018#011validation-error:0.098729\u001b[0m\n",
      "\u001b[34m[09:30:49] src/tree/updater_prune.cc:74: tree pruning end, 1 roots, 22 extra nodes, 14 pruned nodes, max_depth=5\u001b[0m\n",
      "\u001b[34m[14]#011train-error:0.101939#011validation-error:0.098568\u001b[0m\n",
      "\u001b[34m[09:30:49] src/tree/updater_prune.cc:74: tree pruning end, 1 roots, 20 extra nodes, 20 pruned nodes, max_depth=5\u001b[0m\n",
      "\u001b[34m[15]#011train-error:0.101488#011validation-error:0.098649\u001b[0m\n",
      "\u001b[34m[09:30:49] src/tree/updater_prune.cc:74: tree pruning end, 1 roots, 22 extra nodes, 20 pruned nodes, max_depth=5\u001b[0m\n",
      "\u001b[34m[16]#011train-error:0.101696#011validation-error:0.098163\u001b[0m\n",
      "\u001b[34m[09:30:49] src/tree/updater_prune.cc:74: tree pruning end, 1 roots, 24 extra nodes, 30 pruned nodes, max_depth=5\u001b[0m\n",
      "\u001b[34m[17]#011train-error:0.101696#011validation-error:0.098729\u001b[0m\n",
      "\u001b[34m[09:30:49] src/tree/updater_prune.cc:74: tree pruning end, 1 roots, 30 extra nodes, 12 pruned nodes, max_depth=5\u001b[0m\n",
      "\u001b[34m[18]#011train-error:0.101627#011validation-error:0.098649\u001b[0m\n",
      "\u001b[34m[09:30:49] src/tree/updater_prune.cc:74: tree pruning end, 1 roots, 26 extra nodes, 12 pruned nodes, max_depth=5\u001b[0m\n",
      "\u001b[34m[19]#011train-error:0.101523#011validation-error:0.099215\u001b[0m\n",
      "\u001b[34m[09:30:49] src/tree/updater_prune.cc:74: tree pruning end, 1 roots, 20 extra nodes, 18 pruned nodes, max_depth=5\u001b[0m\n",
      "\u001b[34m[20]#011train-error:0.101211#011validation-error:0.09881\u001b[0m\n",
      "\u001b[34m[09:30:49] src/tree/updater_prune.cc:74: tree pruning end, 1 roots, 30 extra nodes, 22 pruned nodes, max_depth=5\u001b[0m\n",
      "\u001b[34m[21]#011train-error:0.101245#011validation-error:0.099053\u001b[0m\n",
      "\u001b[34m[09:30:49] src/tree/updater_prune.cc:74: tree pruning end, 1 roots, 26 extra nodes, 24 pruned nodes, max_depth=5\u001b[0m\n",
      "\u001b[34m[22]#011train-error:0.100968#011validation-error:0.099377\u001b[0m\n",
      "\u001b[34m[09:30:49] src/tree/updater_prune.cc:74: tree pruning end, 1 roots, 22 extra nodes, 18 pruned nodes, max_depth=5\u001b[0m\n",
      "\u001b[34m[23]#011train-error:0.100864#011validation-error:0.100024\u001b[0m\n",
      "\u001b[34m[09:30:49] src/tree/updater_prune.cc:74: tree pruning end, 1 roots, 32 extra nodes, 24 pruned nodes, max_depth=5\u001b[0m\n",
      "\u001b[34m[24]#011train-error:0.100933#011validation-error:0.099781\u001b[0m\n",
      "\u001b[34m[09:30:49] src/tree/updater_prune.cc:74: tree pruning end, 1 roots, 20 extra nodes, 22 pruned nodes, max_depth=5\u001b[0m\n",
      "\u001b[34m[25]#011train-error:0.100898#011validation-error:0.099458\u001b[0m\n",
      "\u001b[34m[09:30:49] src/tree/updater_prune.cc:74: tree pruning end, 1 roots, 36 extra nodes, 16 pruned nodes, max_depth=5\u001b[0m\n",
      "\u001b[34m[26]#011train-error:0.100898#011validation-error:0.098891\u001b[0m\n",
      "\u001b[34m[09:30:49] src/tree/updater_prune.cc:74: tree pruning end, 1 roots, 32 extra nodes, 10 pruned nodes, max_depth=5\u001b[0m\n",
      "\u001b[34m[27]#011train-error:0.100378#011validation-error:0.098972\u001b[0m\n",
      "\u001b[34m[09:30:49] src/tree/updater_prune.cc:74: tree pruning end, 1 roots, 22 extra nodes, 12 pruned nodes, max_depth=5\u001b[0m\n",
      "\u001b[34m[28]#011train-error:0.100343#011validation-error:0.099053\u001b[0m\n",
      "\u001b[34m[09:30:49] src/tree/updater_prune.cc:74: tree pruning end, 1 roots, 30 extra nodes, 26 pruned nodes, max_depth=5\u001b[0m\n",
      "\u001b[34m[29]#011train-error:0.100309#011validation-error:0.099134\u001b[0m\n",
      "\u001b[34m[09:30:49] src/tree/updater_prune.cc:74: tree pruning end, 1 roots, 28 extra nodes, 24 pruned nodes, max_depth=5\u001b[0m\n",
      "\u001b[34m[30]#011train-error:0.100205#011validation-error:0.099053\u001b[0m\n",
      "\u001b[34m[09:30:49] src/tree/updater_prune.cc:74: tree pruning end, 1 roots, 24 extra nodes, 16 pruned nodes, max_depth=5\u001b[0m\n",
      "\u001b[34m[31]#011train-error:0.099962#011validation-error:0.098891\u001b[0m\n",
      "\u001b[34m[09:30:49] src/tree/updater_prune.cc:74: tree pruning end, 1 roots, 20 extra nodes, 12 pruned nodes, max_depth=5\u001b[0m\n",
      "\u001b[34m[32]#011train-error:0.099892#011validation-error:0.098729\u001b[0m\n",
      "\u001b[34m[09:30:49] src/tree/updater_prune.cc:74: tree pruning end, 1 roots, 4 extra nodes, 20 pruned nodes, max_depth=2\u001b[0m\n",
      "\u001b[34m[33]#011train-error:0.099997#011validation-error:0.098729\u001b[0m\n",
      "\u001b[34m[09:30:49] src/tree/updater_prune.cc:74: tree pruning end, 1 roots, 24 extra nodes, 26 pruned nodes, max_depth=5\u001b[0m\n",
      "\u001b[34m[34]#011train-error:0.099892#011validation-error:0.098487\u001b[0m\n",
      "\u001b[34m[09:30:49] src/tree/updater_prune.cc:74: tree pruning end, 1 roots, 10 extra nodes, 14 pruned nodes, max_depth=5\u001b[0m\n",
      "\u001b[34m[35]#011train-error:0.099962#011validation-error:0.098487\u001b[0m\n",
      "\u001b[34m[09:30:49] src/tree/updater_prune.cc:74: tree pruning end, 1 roots, 14 extra nodes, 24 pruned nodes, max_depth=5\u001b[0m\n",
      "\u001b[34m[36]#011train-error:0.10017#011validation-error:0.09881\u001b[0m\n",
      "\u001b[34m[09:30:49] src/tree/updater_prune.cc:74: tree pruning end, 1 roots, 20 extra nodes, 20 pruned nodes, max_depth=5\u001b[0m\n",
      "\u001b[34m[37]#011train-error:0.100205#011validation-error:0.098649\u001b[0m\n",
      "\u001b[34m[09:30:49] src/tree/updater_prune.cc:74: tree pruning end, 1 roots, 12 extra nodes, 6 pruned nodes, max_depth=5\u001b[0m\n",
      "\u001b[34m[38]#011train-error:0.100101#011validation-error:0.098649\u001b[0m\n",
      "\u001b[34m[09:30:49] src/tree/updater_prune.cc:74: tree pruning end, 1 roots, 14 extra nodes, 18 pruned nodes, max_depth=5\u001b[0m\n",
      "\u001b[34m[39]#011train-error:0.099962#011validation-error:0.098649\u001b[0m\n",
      "\u001b[34m[09:30:49] src/tree/updater_prune.cc:74: tree pruning end, 1 roots, 16 extra nodes, 10 pruned nodes, max_depth=5\u001b[0m\n",
      "\u001b[34m[40]#011train-error:0.099892#011validation-error:0.09881\u001b[0m\n",
      "\u001b[34m[09:30:49] src/tree/updater_prune.cc:74: tree pruning end, 1 roots, 26 extra nodes, 22 pruned nodes, max_depth=5\u001b[0m\n",
      "\u001b[34m[41]#011train-error:0.09965#011validation-error:0.09881\u001b[0m\n",
      "\u001b[34m[09:30:49] src/tree/updater_prune.cc:74: tree pruning end, 1 roots, 26 extra nodes, 6 pruned nodes, max_depth=5\u001b[0m\n",
      "\u001b[34m[42]#011train-error:0.099858#011validation-error:0.09881\u001b[0m\n",
      "\u001b[34m[09:30:49] src/tree/updater_prune.cc:74: tree pruning end, 1 roots, 10 extra nodes, 22 pruned nodes, max_depth=4\u001b[0m\n",
      "\u001b[34m[43]#011train-error:0.099615#011validation-error:0.099296\u001b[0m\n",
      "\u001b[34m[09:30:49] src/tree/updater_prune.cc:74: tree pruning end, 1 roots, 14 extra nodes, 12 pruned nodes, max_depth=5\u001b[0m\n",
      "\u001b[34m[44]#011train-error:0.099684#011validation-error:0.098729\u001b[0m\n",
      "\u001b[34m[09:30:49] src/tree/updater_prune.cc:74: tree pruning end, 1 roots, 16 extra nodes, 28 pruned nodes, max_depth=5\u001b[0m\n",
      "\u001b[34m[45]#011train-error:0.099615#011validation-error:0.098891\u001b[0m\n",
      "\u001b[34m[09:30:49] src/tree/updater_prune.cc:74: tree pruning end, 1 roots, 22 extra nodes, 16 pruned nodes, max_depth=5\u001b[0m\n",
      "\u001b[34m[46]#011train-error:0.099615#011validation-error:0.098729\u001b[0m\n",
      "\u001b[34m[09:30:49] src/tree/updater_prune.cc:74: tree pruning end, 1 roots, 14 extra nodes, 12 pruned nodes, max_depth=5\u001b[0m\n",
      "\u001b[34m[47]#011train-error:0.099442#011validation-error:0.098325\u001b[0m\n",
      "\u001b[34m[09:30:49] src/tree/updater_prune.cc:74: tree pruning end, 1 roots, 24 extra nodes, 16 pruned nodes, max_depth=5\u001b[0m\n",
      "\u001b[34m[48]#011train-error:0.099442#011validation-error:0.098406\u001b[0m\n",
      "\u001b[34m[09:30:49] src/tree/updater_prune.cc:74: tree pruning end, 1 roots, 12 extra nodes, 30 pruned nodes, max_depth=4\u001b[0m\n",
      "\u001b[34m[49]#011train-error:0.099476#011validation-error:0.098082\u001b[0m\n",
      "\n",
      "2024-08-20 09:31:04 Uploading - Uploading generated training model\n",
      "2024-08-20 09:31:04 Completed - Training job completed\n",
      "Training seconds: 85\n",
      "Billable seconds: 32\n",
      "Managed Spot Training savings: 62.4%\n"
     ]
    }
   ],
   "source": [
    "estimator.fit({'train': s3_input_train,'validation': s3_input_test})"
   ]
  },
  {
   "cell_type": "markdown",
   "id": "f38907a1",
   "metadata": {},
   "source": [
    "# Model deployment"
   ]
  },
  {
   "cell_type": "code",
   "execution_count": 18,
   "id": "30c1804f",
   "metadata": {},
   "outputs": [
    {
     "name": "stderr",
     "output_type": "stream",
     "text": [
      "INFO:sagemaker:Creating model with name: xgboost-2024-08-20-09-33-49-628\n",
      "INFO:sagemaker:Creating endpoint-config with name xgboost-2024-08-20-09-33-49-628\n",
      "INFO:sagemaker:Creating endpoint with name xgboost-2024-08-20-09-33-49-628\n"
     ]
    },
    {
     "name": "stdout",
     "output_type": "stream",
     "text": [
      "------!"
     ]
    }
   ],
   "source": [
    "xgb_predictor = estimator.deploy(initial_instance_count=1,instance_type='ml.m4.xlarge')"
   ]
  },
  {
   "cell_type": "markdown",
   "id": "15aceb18",
   "metadata": {},
   "source": [
    "# Model prediction for test"
   ]
  },
  {
   "cell_type": "code",
   "execution_count": 24,
   "id": "1f26687a",
   "metadata": {},
   "outputs": [
    {
     "name": "stdout",
     "output_type": "stream",
     "text": [
      "[0.24883506 0.05253069 0.09926574 ... 0.06243566 0.02652985 0.12547438]\n"
     ]
    }
   ],
   "source": [
    "# change the test data to array\n",
    "test_array = test.drop(['y_no', 'y_yes'], axis=1).values \n",
    "xgb_predictor.content_type = 'text/csv' \n",
    "xgb_predictor.serializer = CSVSerializer()\n",
    "\n",
    "predictions = xgb_predictor.predict(test_array).decode('utf-8') \n",
    "predictions_array = np.fromstring(predictions[1:], sep=',') \n",
    "print(round(predictions_array))"
   ]
  },
  {
   "cell_type": "code",
   "execution_count": 37,
   "id": "351596f3",
   "metadata": {},
   "outputs": [
    {
     "name": "stdout",
     "output_type": "stream",
     "text": [
      "[[10843   189]\n",
      " [ 1023   302]]\n"
     ]
    }
   ],
   "source": [
    "print(confusion_matrix(test['y_yes'],np.round(predictions_array)))"
   ]
  },
  {
   "cell_type": "code",
   "execution_count": 41,
   "id": "e4027985",
   "metadata": {},
   "outputs": [
    {
     "name": "stdout",
     "output_type": "stream",
     "text": [
      "              precision    recall  f1-score   support\n",
      "\n",
      "           0       0.91      0.98      0.95     11032\n",
      "           1       0.62      0.23      0.33      1325\n",
      "\n",
      "    accuracy                           0.90     12357\n",
      "   macro avg       0.76      0.61      0.64     12357\n",
      "weighted avg       0.88      0.90      0.88     12357\n",
      "\n"
     ]
    }
   ],
   "source": [
    "print(classification_report(test['y_yes'],y_pred=np.round(predictions_array)))"
   ]
  },
  {
   "cell_type": "markdown",
   "id": "c2ad38fb",
   "metadata": {},
   "source": [
    "# Download S3 bucket project before deleting it"
   ]
  },
  {
   "cell_type": "code",
   "execution_count": null,
   "id": "c6984602",
   "metadata": {},
   "outputs": [],
   "source": [
    "\"\"\"\n",
    "in aws, user, security credintial, create access key\n",
    "inside your local machine:\n",
    "pip install awscli\n",
    "aws configure\n",
    "File association not found for extension .py\n",
    "AWS Access Key ID: #######\n",
    "AWS Secret Access Key : ######\n",
    "Default region name : eu-central-1\n",
    "Default output format: json\n",
    "aws s3 sync s3://marzieh-bank-project C:\\Users\\micha\\OneDrive\\Skrivbord\\marzieh\\13-aws\n",
    "\"\"\""
   ]
  },
  {
   "cell_type": "markdown",
   "id": "c41f37c1",
   "metadata": {},
   "source": [
    "# How to delete the deployed model"
   ]
  },
  {
   "cell_type": "code",
   "execution_count": 42,
   "id": "e77f4912",
   "metadata": {},
   "outputs": [
    {
     "name": "stderr",
     "output_type": "stream",
     "text": [
      "WARNING:sagemaker.deprecations:The endpoint attribute has been renamed in sagemaker>=2.\n",
      "See: https://sagemaker.readthedocs.io/en/stable/v2.html for details.\n",
      "INFO:sagemaker:Deleting endpoint with name: xgboost-2024-08-20-09-33-49-628\n"
     ]
    },
    {
     "data": {
      "text/plain": [
       "[{'ResponseMetadata': {'RequestId': '5TK84S1C7T8FR3A1',\n",
       "   'HostId': 'kvxEYpZSF4SSLZQWTPi88vPu+JZR9AB92LCxbRjFgQblrfGUx/W1ikdFfJdLuZKX+uGSiCbXM9SSbBS7bKCLQQ==',\n",
       "   'HTTPStatusCode': 200,\n",
       "   'HTTPHeaders': {'x-amz-id-2': 'kvxEYpZSF4SSLZQWTPi88vPu+JZR9AB92LCxbRjFgQblrfGUx/W1ikdFfJdLuZKX+uGSiCbXM9SSbBS7bKCLQQ==',\n",
       "    'x-amz-request-id': '5TK84S1C7T8FR3A1',\n",
       "    'date': 'Tue, 20 Aug 2024 10:53:13 GMT',\n",
       "    'content-type': 'application/xml',\n",
       "    'transfer-encoding': 'chunked',\n",
       "    'server': 'AmazonS3',\n",
       "    'connection': 'close'},\n",
       "   'RetryAttempts': 0},\n",
       "  'Deleted': [{'Key': 'xgboost/output/xgboost-2024-08-20-09-28-50-065/profiler-output/framework/training_job_end.ts'},\n",
       "   {'Key': 'xgboost/output/xgboost-2024-08-20-09-28-50-065/output/model.tar.gz'},\n",
       "   {'Key': 'xgboost/output/xgboost-2024-08-20-09-28-50-065/debug-output/training_job_end.ts'},\n",
       "   {'Key': 'xgboost/test/test.csv'},\n",
       "   {'Key': 'xgboost/output/xgboost-2024-08-20-09-28-50-065/profiler-output/system/training_job_end.ts'},\n",
       "   {'Key': 'xgboost/output/xgboost-2024-08-20-09-28-50-065/profiler-output/system/incremental/2024082009/1724146200.algo-1.json'},\n",
       "   {'Key': 'xgboost/output/xgboost-2024-08-20-09-28-50-065/profiler-output/system/incremental/2024082009/1724146140.algo-1.json'},\n",
       "   {'Key': 'xgboost/train/train.csv'}]}]"
      ]
     },
     "execution_count": 42,
     "metadata": {},
     "output_type": "execute_result"
    }
   ],
   "source": [
    "sagemaker.Session().delete_endpoint(xgb_predictor.endpoint)\n",
    "bucket_to_delete = boto3.resource('s3').Bucket(bucket_name)\n",
    "bucket_to_delete.objects.all().delete()"
   ]
  }
 ],
 "metadata": {
  "kernelspec": {
   "display_name": "conda_python3",
   "language": "python",
   "name": "conda_python3"
  },
  "language_info": {
   "codemirror_mode": {
    "name": "ipython",
    "version": 3
   },
   "file_extension": ".py",
   "mimetype": "text/x-python",
   "name": "python",
   "nbconvert_exporter": "python",
   "pygments_lexer": "ipython3",
   "version": "3.10.14"
  }
 },
 "nbformat": 4,
 "nbformat_minor": 5
}
