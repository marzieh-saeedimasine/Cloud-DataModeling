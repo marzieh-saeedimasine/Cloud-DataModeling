{
	"cells": [
		{
			"cell_type": "code",
			"execution_count": null,
			"metadata": {
				"vscode": {
					"languageId": "plaintext"
				}
			},
			"outputs": [],
			"source": [
				"\"\"\"\n",
				"-- This notebook is showing how to use AWS Glue notebook, Upload Notebook\n",
				"-- how to use GLUE SQL to manipulate the data\n",
				"-- work with Spark Data Frame and Glue Dynamic Frame\n",
				"\"\"\""
			]
		},
		{
			"cell_type": "code",
			"execution_count": 1,
			"metadata": {
				"tags": [],
				"trusted": true,
				"vscode": {
					"languageId": "python_glue_session"
				}
			},
			"outputs": [
				{
					"name": "stdout",
					"output_type": "stream",
					"text": [
						"Welcome to the Glue Interactive Sessions Kernel\n",
						"For more information on available magic commands, please type %help in any new cell.\n",
						"\n",
						"Please view our Getting Started page to access the most up-to-date information on the Interactive Sessions kernel: https://docs.aws.amazon.com/glue/latest/dg/interactive-sessions.html\n",
						"Installed kernel version: 1.0.5 \n",
						"Trying to create a Glue session for the kernel.\n",
						"Session Type: glueetl\n",
						"Session ID: 3ea40ef5-ae30-4180-8518-9416ba038a7f\n",
						"Applying the following default arguments:\n",
						"--glue_kernel_version 1.0.5\n",
						"--enable-glue-datacatalog true\n",
						"Waiting for session 3ea40ef5-ae30-4180-8518-9416ba038a7f to get into ready status...\n",
						"Session 3ea40ef5-ae30-4180-8518-9416ba038a7f has been created.\n",
						"\n"
					]
				}
			],
			"source": [
				"import sys\n",
				"import boto3\n",
				"from awsglue.transforms import *\n",
				"from awsglue.utils import getResolvedOptions\n",
				"from pyspark.context import SparkContext\n",
				"from awsglue.context import GlueContext\n",
				"from awsglue.job import Job\n",
				"from pyspark.sql.functions import lit, concat\n",
				"from awsglue.dynamicframe import DynamicFrame\n",
				"  \n",
				"sc = SparkContext.getOrCreate()\n",
				"glueContext = GlueContext(sc)\n",
				"spark = glueContext.spark_session\n",
				"job = Job(glueContext)"
			]
		},
		{
			"cell_type": "code",
			"execution_count": 8,
			"metadata": {
				"tags": [],
				"trusted": true,
				"vscode": {
					"languageId": "python_glue_session"
				}
			},
			"outputs": [
				{
					"name": "stdout",
					"output_type": "stream",
					"text": [
						"  customer-project-marzieh\n"
					]
				}
			],
			"source": [
				"s3 = boto3.client('s3')\n",
				"response = s3.list_buckets()\n",
				"for bucket in response['Buckets']:\n",
				"    print(f'  {bucket[\"Name\"]}')"
			]
		},
		{
			"cell_type": "markdown",
			"metadata": {},
			"source": [
				"# Use Spark DataFrame"
			]
		},
		{
			"cell_type": "code",
			"execution_count": 9,
			"metadata": {
				"tags": [],
				"trusted": true,
				"vscode": {
					"languageId": "python_glue_session"
				}
			},
			"outputs": [
				{
					"name": "stdout",
					"output_type": "stream",
					"text": [
						"root\n",
						" |-- Customerid: integer (nullable = true)\n",
						" |-- Firstname: string (nullable = true)\n",
						" |--  Lastname: string (nullable = true)\n",
						" |-- Fullname: string (nullable = true)\n"
					]
				}
			],
			"source": [
				"s3_path = \"s3://customer-project-marzieh/input/customers.csv\"\n",
				"df_customer = spark.read.load(s3_path, format=\"csv\", sep=\",\", inferSchema=\"true\",header=\"true\")\n",
				"df_customer.printSchema()\n",
				"df_customer.show(10)\n",
				"df_customer.count()"
			]
		},
		{
			"cell_type": "code",
			"execution_count": 21,
			"metadata": {
				"tags": [],
				"trusted": true,
				"vscode": {
					"languageId": "python_glue_session"
				}
			},
			"outputs": [
				{
					"name": "stdout",
					"output_type": "stream",
					"text": [
						"+----------+----------------+\n",
						"|Customerid|Fullname        |\n",
						"+----------+----------------+\n",
						"|293       |Catherine Abel  |\n",
						"|295       |Kim Abercrombie |\n",
						"|297       |Humberto Acevedo|\n",
						"|291       |Gustavo Achong  |\n",
						"|299       |Pilar Ackerman  |\n",
						"|305       |Carla Adams     |\n",
						"|301       |Frances Adams   |\n",
						"|307       |Jay Adams       |\n",
						"|309       |Ronald Adina    |\n",
						"|311       |Samuel Agcaoili |\n",
						"+----------+----------------+\n",
						"only showing top 10 rows\n"
					]
				}
			],
			"source": [
				"df_customer_select = df_customer.select(df_customer['Customerid'], df_customer['Fullname'])\n",
				"df_customer_select.show(10,truncate=False)"
			]
		},
		{
			"cell_type": "code",
			"execution_count": 28,
			"metadata": {
				"tags": [],
				"trusted": true,
				"vscode": {
					"languageId": "python_glue_session"
				}
			},
			"outputs": [
				{
					"name": "stdout",
					"output_type": "stream",
					"text": [
						"+----------+----------------+\n",
						"|Customerid|Fullname        |\n",
						"+----------+----------------+\n",
						"|293       |Catherine Abel  |\n",
						"|295       |Kim Abercrombie |\n",
						"|297       |Humberto Acevedo|\n",
						"|291       |Gustavo Achong  |\n",
						"|299       |Pilar Ackerman  |\n",
						"|305       |Carla Adams     |\n",
						"|301       |Frances Adams   |\n",
						"|307       |Jay Adams       |\n",
						"|309       |Ronald Adina    |\n",
						"|311       |Samuel Agcaoili |\n",
						"+----------+----------------+\n",
						"only showing top 10 rows\n"
					]
				}
			],
			"source": [
				"dfRenameCol = df_customer.withColumnRenamed(\" Lastname\",\"Lastname\")\n",
				"dfDropCol = dfRenameCol.drop('Firstname','Lastname')\n",
				"dfDropCol.show(10,truncate=False)"
			]
		},
		{
			"cell_type": "code",
			"execution_count": 37,
			"metadata": {
				"tags": [],
				"trusted": true,
				"vscode": {
					"languageId": "python_glue_session"
				}
			},
			"outputs": [
				{
					"name": "stdout",
					"output_type": "stream",
					"text": [
						"+----------+---------+--------+---------+\n",
						"|Customerid|Firstname|Lastname|Fullname |\n",
						"+----------+---------+--------+---------+\n",
						"|1233      |Jim      |Kim     |Jim Kim  |\n",
						"|1231      |Joe      |Kim     |Joe Kim  |\n",
						"|1235      |Shane    |Kim     |Shane Kim|\n",
						"|1237      |Tim      |Kim     |Tim Kim  |\n",
						"+----------+---------+--------+---------+\n"
					]
				}
			],
			"source": [
				"dfselectfilter = dfRenameCol.filter((dfRenameCol['Lastname'] == 'Kim') & (dfRenameCol['Customerid'] >= 305))\n",
				"dfselectfilter.show(10,truncate=False)"
			]
		},
		{
			"cell_type": "code",
			"execution_count": 39,
			"metadata": {
				"tags": [],
				"trusted": true,
				"vscode": {
					"languageId": "python_glue_session"
				}
			},
			"outputs": [
				{
					"name": "stdout",
					"output_type": "stream",
					"text": [
						"+----------+---------+-----------+----------------+\n",
						"|Customerid|Firstname|   Lastname|        Fullname|\n",
						"+----------+---------+-----------+----------------+\n",
						"|       293|Catherine|       Abel|  Catherine Abel|\n",
						"|       295|      Kim|Abercrombie| Kim Abercrombie|\n",
						"|       297| Humberto|    Acevedo|Humberto Acevedo|\n",
						"|       291|  Gustavo|     Achong|  Gustavo Achong|\n",
						"|       299|    Pilar|   Ackerman|  Pilar Ackerman|\n",
						"+----------+---------+-----------+----------------+\n"
					]
				}
			],
			"source": [
				"df_customer.where(df_customer[\"Customerid\"] <300).show()"
			]
		},
		{
			"cell_type": "code",
			"execution_count": 42,
			"metadata": {
				"tags": [],
				"trusted": true,
				"vscode": {
					"languageId": "python_glue_session"
				}
			},
			"outputs": [
				{
					"name": "stdout",
					"output_type": "stream",
					"text": [
						"+--------+---------------+\n",
						"|Lastname|sum(Customerid)|\n",
						"+--------+---------------+\n",
						"|Achong  |291            |\n",
						"|Bailey  |389            |\n",
						"|Caron   |637            |\n",
						"|Casts   |651            |\n",
						"|Curry   |765            |\n",
						"|Desalvo |801            |\n",
						"|Dockter |815            |\n",
						"|Dyck    |841            |\n",
						"|Farino  |879            |\n",
						"|Fluegel |893            |\n",
						"+--------+---------------+\n",
						"only showing top 10 rows\n"
					]
				}
			],
			"source": [
				"dfselectfiltergroupby = dfRenameCol.groupBy(\"Lastname\").sum(\"Customerid\")\n",
				"dfselectfiltergroupby.show(10,truncate=False)"
			]
		},
		{
			"cell_type": "code",
			"execution_count": 43,
			"metadata": {
				"tags": [],
				"trusted": true,
				"vscode": {
					"languageId": "python_glue_session"
				}
			},
			"outputs": [
				{
					"name": "stdout",
					"output_type": "stream",
					"text": [
						"+--------+---------------+\n",
						"|Lastname|sum(Customerid)|\n",
						"+--------+---------------+\n",
						"|Miller  |8844           |\n",
						"|Johnson |8183           |\n",
						"|Thompson|5661           |\n",
						"|Taylor  |5589           |\n",
						"|Liu     |5336           |\n",
						"|Li      |5288           |\n",
						"|Lee     |5180           |\n",
						"|Kim     |4936           |\n",
						"|Mitchell|4449           |\n",
						"|Meyer   |4371           |\n",
						"+--------+---------------+\n",
						"only showing top 10 rows\n"
					]
				}
			],
			"source": [
				"dfselectfiltergroupbyorderby = dfselectfiltergroupby.orderBy(\"sum(Customerid)\", ascending=False)\n",
				"dfselectfiltergroupbyorderby.show(10,truncate=False)"
			]
		},
		{
			"cell_type": "code",
			"execution_count": 46,
			"metadata": {
				"tags": [],
				"trusted": true,
				"vscode": {
					"languageId": "python_glue_session"
				}
			},
			"outputs": [
				{
					"name": "stdout",
					"output_type": "stream",
					"text": [
						"+----------+----------------+\n",
						"|Customerid|Fullname        |\n",
						"+----------+----------------+\n",
						"|293       |Catherine Abel  |\n",
						"|295       |Kim Abercrombie |\n",
						"|297       |Humberto Acevedo|\n",
						"|291       |Gustavo Achong  |\n",
						"|299       |Pilar Ackerman  |\n",
						"|305       |Carla Adams     |\n",
						"|301       |Frances Adams   |\n",
						"|307       |Jay Adams       |\n",
						"|309       |Ronald Adina    |\n",
						"|311       |Samuel Agcaoili |\n",
						"+----------+----------------+\n",
						"only showing top 10 rows\n"
					]
				}
			],
			"source": [
				"df_customer_select.write.parquet(\"s3://customer-project-marzieh/output/customerselect\")\n",
				"dfpaquet = spark.read.parquet(\"s3://customer-project-marzieh/output/customerselect\")\n",
				"dfpaquet.show(10,truncate=False)"
			]
		},
		{
			"cell_type": "markdown",
			"metadata": {},
			"source": [
				"# Use SQL to manipulate the data"
			]
		},
		{
			"cell_type": "code",
			"execution_count": 50,
			"metadata": {
				"tags": [],
				"trusted": true,
				"vscode": {
					"languageId": "python_glue_session"
				}
			},
			"outputs": [
				{
					"name": "stdout",
					"output_type": "stream",
					"text": [
						"+----------------+-------------+\n",
						"|Fullname        |SumCustomerid|\n",
						"+----------------+-------------+\n",
						"|Gustavo Achong  |291          |\n",
						"|Catherine Abel  |293          |\n",
						"|Kim Abercrombie |295          |\n",
						"|Humberto Acevedo|297          |\n",
						"|Pilar Ackerman  |299          |\n",
						"|Frances Adams   |301          |\n",
						"|Margaret Smith  |303          |\n",
						"|Carla Adams     |305          |\n",
						"|Jay Adams       |307          |\n",
						"|Ronald Adina    |309          |\n",
						"+----------------+-------------+\n",
						"only showing top 10 rows\n"
					]
				}
			],
			"source": [
				"dfpaquet.createOrReplaceTempView('dfpaquetsql')\n",
				"spark.sql('select * from dfpaquetsql limit 10').show()\n",
				"spark.sql('select Fullname from dfpaquetsql limit 10').show()\n",
				"df_groupby = spark.sql('select Fullname , sum(Customerid) as SumCustomerid from dfpaquetsql group by Fullname order by SumCustomerid asc')\n",
				"df_groupby.show(10,truncate=False)"
			]
		},
		{
			"cell_type": "code",
			"execution_count": 2,
			"metadata": {
				"tags": [],
				"trusted": true,
				"vscode": {
					"languageId": "python_glue_session"
				}
			},
			"outputs": [
				{
					"name": "stdout",
					"output_type": "stream",
					"text": [
						"+---------+\n",
						"|namespace|\n",
						"+---------+\n",
						"|  default|\n",
						"+---------+\n"
					]
				}
			],
			"source": [
				"spark.sql(\"show databases\").show()"
			]
		},
		{
			"cell_type": "code",
			"execution_count": 3,
			"metadata": {
				"tags": [],
				"trusted": true,
				"vscode": {
					"languageId": "python_glue_session"
				}
			},
			"outputs": [
				{
					"name": "stdout",
					"output_type": "stream",
					"text": [
						"++\n",
						"||\n",
						"++\n",
						"++\n"
					]
				}
			],
			"source": [
				"%%sql\n",
				"create database if not exists customers_project"
			]
		},
		{
			"cell_type": "code",
			"execution_count": 6,
			"metadata": {
				"tags": [],
				"trusted": true,
				"vscode": {
					"languageId": "python_glue_session"
				}
			},
			"outputs": [
				{
					"name": "stdout",
					"output_type": "stream",
					"text": [
						"++\n",
						"||\n",
						"++\n",
						"++\n"
					]
				}
			],
			"source": [
				"%%sql\n",
				"\n",
				"CREATE EXTERNAL TABLE IF NOT EXISTS customers_project.customers_csv\n",
				"(\n",
				"Customerid integer, \n",
				"Firstname string, \n",
				"Lastname string, \n",
				"Fullname string\n",
				") \n",
				"STORED AS TEXTFILE\n",
				"LOCATION 's3://customer-project-marzieh/inputs/customers/'\n",
				"ROW FORMAT DELIMITED \n",
				"FIELDS TERMINATED BY ',' \n",
				"LINES TERMINATED BY '\\n'\n",
				"TBLPROPERTIES (\"skip.header.line.count\"=\"1\")"
			]
		},
		{
			"cell_type": "code",
			"execution_count": 7,
			"metadata": {
				"tags": [],
				"trusted": true,
				"vscode": {
					"languageId": "python_glue_session"
				}
			},
			"outputs": [
				{
					"name": "stdout",
					"output_type": "stream",
					"text": [
						"+----------+---------+-----------+----------------+\n",
						"|Customerid|Firstname|   Lastname|        Fullname|\n",
						"+----------+---------+-----------+----------------+\n",
						"|      null|Firstname|   Lastname|        Fullname|\n",
						"|       293|Catherine|       Abel|  Catherine Abel|\n",
						"|       295|      Kim|Abercrombie| Kim Abercrombie|\n",
						"|       297| Humberto|    Acevedo|Humberto Acevedo|\n",
						"|       291|  Gustavo|     Achong|  Gustavo Achong|\n",
						"|       299|    Pilar|   Ackerman|  Pilar Ackerman|\n",
						"|       305|    Carla|      Adams|     Carla Adams|\n",
						"|       301|  Frances|      Adams|   Frances Adams|\n",
						"|       307|      Jay|      Adams|       Jay Adams|\n",
						"|       309|   Ronald|      Adina|    Ronald Adina|\n",
						"+----------+---------+-----------+----------------+\n"
					]
				}
			],
			"source": [
				"%%sql\n",
				"SELECT * from  customers_project.customers_csv limit 10"
			]
		},
		{
			"cell_type": "markdown",
			"metadata": {},
			"source": [
				"# Use Dynamic Frame"
			]
		},
		{
			"cell_type": "code",
			"execution_count": 8,
			"metadata": {
				"tags": [],
				"trusted": true,
				"vscode": {
					"languageId": "python_glue_session"
				}
			},
			"outputs": [
				{
					"name": "stdout",
					"output_type": "stream",
					"text": [
						"\n"
					]
				}
			],
			"source": [
				"dynamicFrameCustomers = glueContext.create_dynamic_frame.from_catalog(\n",
				"database = \"customers_project\", \n",
				"table_name = \"customers_csv\"\n",
				")"
			]
		},
		{
			"cell_type": "code",
			"execution_count": 9,
			"metadata": {
				"tags": [],
				"trusted": true,
				"vscode": {
					"languageId": "python_glue_session"
				}
			},
			"outputs": [
				{
					"name": "stdout",
					"output_type": "stream",
					"text": [
						"root\n",
						"|-- customerid: int\n",
						"|-- firstname: string\n",
						"|-- lastname: string\n",
						"|-- fullname: string\n",
						"\n",
						"{\"customerid\": 293, \"firstname\": \"Catherine\", \"lastname\": \"Abel\", \"fullname\": \"Catherine Abel\"}\n",
						"{\"customerid\": 295, \"firstname\": \"Kim\", \"lastname\": \"Abercrombie\", \"fullname\": \"Kim Abercrombie\"}\n",
						"{\"customerid\": 297, \"firstname\": \"Humberto\", \"lastname\": \"Acevedo\", \"fullname\": \"Humberto Acevedo\"}\n",
						"{\"customerid\": 291, \"firstname\": \"Gustavo\", \"lastname\": \"Achong\", \"fullname\": \"Gustavo Achong\"}\n",
						"{\"customerid\": 299, \"firstname\": \"Pilar\", \"lastname\": \"Ackerman\", \"fullname\": \"Pilar Ackerman\"}\n",
						"{\"customerid\": 305, \"firstname\": \"Carla\", \"lastname\": \"Adams\", \"fullname\": \"Carla Adams\"}\n",
						"{\"customerid\": 301, \"firstname\": \"Frances\", \"lastname\": \"Adams\", \"fullname\": \"Frances Adams\"}\n",
						"{\"customerid\": 307, \"firstname\": \"Jay\", \"lastname\": \"Adams\", \"fullname\": \"Jay Adams\"}\n",
						"{\"customerid\": 309, \"firstname\": \"Ronald\", \"lastname\": \"Adina\", \"fullname\": \"Ronald Adina\"}\n",
						"{\"customerid\": 311, \"firstname\": \"Samuel\", \"lastname\": \"Agcaoili\", \"fullname\": \"Samuel Agcaoili\"}\n",
						"{\"customerid\": 293, \"fullname\": \"Catherine Abel\"}\n",
						"{\"customerid\": 295, \"fullname\": \"Kim Abercrombie\"}\n",
						"{\"customerid\": 297, \"fullname\": \"Humberto Acevedo\"}\n",
						"{\"customerid\": 291, \"fullname\": \"Gustavo Achong\"}\n",
						"{\"customerid\": 299, \"fullname\": \"Pilar Ackerman\"}\n",
						"{\"customerid\": 305, \"fullname\": \"Carla Adams\"}\n",
						"{\"customerid\": 301, \"fullname\": \"Frances Adams\"}\n",
						"{\"customerid\": 307, \"fullname\": \"Jay Adams\"}\n",
						"{\"customerid\": 309, \"fullname\": \"Ronald Adina\"}\n",
						"{\"customerid\": 311, \"fullname\": \"Samuel Agcaoili\"}\n",
						"{\"customerid\": 293, \"fullname\": \"Catherine Abel\"}\n",
						"{\"customerid\": 295, \"fullname\": \"Kim Abercrombie\"}\n",
						"{\"customerid\": 297, \"fullname\": \"Humberto Acevedo\"}\n",
						"{\"customerid\": 291, \"fullname\": \"Gustavo Achong\"}\n",
						"{\"customerid\": 299, \"fullname\": \"Pilar Ackerman\"}\n",
						"{\"customerid\": 305, \"fullname\": \"Carla Adams\"}\n",
						"{\"customerid\": 301, \"fullname\": \"Frances Adams\"}\n",
						"{\"customerid\": 307, \"fullname\": \"Jay Adams\"}\n",
						"{\"customerid\": 309, \"fullname\": \"Ronald Adina\"}\n",
						"{\"customerid\": 311, \"fullname\": \"Samuel Agcaoili\"}\n"
					]
				}
			],
			"source": [
				"dynamicFrameCustomers.printSchema()\n",
				"dynamicFrameCustomers.show(10)\n",
				"dynamicFrameCustomers.count()\n",
				"\n",
				"dyfCustomerSelectFields = dynamicFrameCustomers.select_fields([\"customerid\", \"fullname\"])\n",
				"dyfCustomerSelectFields.show(10)\n",
				"\n",
				"dyfCustomerDropFields = dynamicFrameCustomers.drop_fields([\"firstname\",\"lastname\"])\n",
				"dyfCustomerDropFields.show(10)"
			]
		},
		{
			"cell_type": "code",
			"execution_count": 105,
			"metadata": {
				"tags": [],
				"trusted": true,
				"vscode": {
					"languageId": "python_glue_session"
				}
			},
			"outputs": [
				{
					"name": "stdout",
					"output_type": "stream",
					"text": [
						"{\"customerid\": 293, \"name\": \"Catherine Abel\"}\n",
						"{\"customerid\": 295, \"name\": \"Kim Abercrombie\"}\n",
						"{\"customerid\": 297, \"name\": \"Humberto Acevedo\"}\n",
						"{\"customerid\": 291, \"name\": \"Gustavo Achong\"}\n",
						"{\"customerid\": 299, \"name\": \"Pilar Ackerman\"}\n",
						"{\"customerid\": 305, \"name\": \"Carla Adams\"}\n",
						"{\"customerid\": 301, \"name\": \"Frances Adams\"}\n",
						"{\"customerid\": 307, \"name\": \"Jay Adams\"}\n",
						"{\"customerid\": 309, \"name\": \"Ronald Adina\"}\n",
						"{\"customerid\": 311, \"name\": \"Samuel Agcaoili\"}\n"
					]
				}
			],
			"source": [
				"# Mapping to rename column fullname -> name\n",
				"dfyMapping = ApplyMapping.apply(\n",
				"                                frame = dyfCustomerDropFields, \n",
				"                                mappings = [(\"customerid\", \"long\", \"customerid\",\"long\"),\n",
				"                                            (\"fullname\", \"string\", \"name\", \"string\")], \n",
				"                                transformation_ctx = \"applymapping1\"\n",
				"                                )\n",
				"\n",
				"\n",
				"dfyMapping.show(10)"
			]
		},
		{
			"cell_type": "code",
			"execution_count": 10,
			"metadata": {
				"tags": [],
				"trusted": true,
				"vscode": {
					"languageId": "python_glue_session"
				}
			},
			"outputs": [
				{
					"name": "stdout",
					"output_type": "stream",
					"text": [
						"{\"lastname\": \"Adams\", \"firstname\": \"Carla\", \"customerid\": 305, \"fullname\": \"Carla Adams\"}\n",
						"{\"lastname\": \"Adams\", \"firstname\": \"Frances\", \"customerid\": 301, \"fullname\": \"Frances Adams\"}\n",
						"{\"lastname\": \"Adams\", \"firstname\": \"Jay\", \"customerid\": 307, \"fullname\": \"Jay Adams\"}\n"
					]
				}
			],
			"source": [
				"dyfFilter=  Filter.apply(frame = dynamicFrameCustomers, f = lambda x: x[\"lastname\"] in \"Adams\")\n",
				"dyfFilter.show(10)"
			]
		},
		{
			"cell_type": "code",
			"execution_count": 12,
			"metadata": {
				"tags": [],
				"trusted": true,
				"vscode": {
					"languageId": "python_glue_session"
				}
			},
			"outputs": [
				{
					"name": "stdout",
					"output_type": "stream",
					"text": [
						"{\"SalesOrderID\": \"43659\", \"SalesOrderDetailID\": \"1\", \"OrderDate\": \"5/31/2011\", \"DueDate\": \"6/12/2011\", \"ShipDate\": \"6/7/2011\", \"EmployeeID\": \"279\", \"CustomerID\": \"1045\", \"SubTotal\": \"20565.6206\", \"TaxAmt\": \"1971.5149\", \"Freight\": \"616.0984\", \"TotalDue\": \"23153.2339\", \"ProductID\": \"776\", \"OrderQty\": \"1\", \"UnitPrice\": \"2024.994\", \"UnitPriceDiscount\": \"0\", \"LineTotal\": \"2024.994\"}\n",
						"{\"SalesOrderID\": \"43659\", \"SalesOrderDetailID\": \"2\", \"OrderDate\": \"5/31/2011\", \"DueDate\": \"6/12/2011\", \"ShipDate\": \"6/7/2011\", \"EmployeeID\": \"279\", \"CustomerID\": \"1045\", \"SubTotal\": \"20565.6206\", \"TaxAmt\": \"1971.5149\", \"Freight\": \"616.0984\", \"TotalDue\": \"23153.2339\", \"ProductID\": \"777\", \"OrderQty\": \"3\", \"UnitPrice\": \"2024.994\", \"UnitPriceDiscount\": \"0\", \"LineTotal\": \"6074.982\"}\n",
						"{\"SalesOrderID\": \"43659\", \"SalesOrderDetailID\": \"3\", \"OrderDate\": \"5/31/2011\", \"DueDate\": \"6/12/2011\", \"ShipDate\": \"6/7/2011\", \"EmployeeID\": \"279\", \"CustomerID\": \"1045\", \"SubTotal\": \"20565.6206\", \"TaxAmt\": \"1971.5149\", \"Freight\": \"616.0984\", \"TotalDue\": \"23153.2339\", \"ProductID\": \"778\", \"OrderQty\": \"1\", \"UnitPrice\": \"2024.994\", \"UnitPriceDiscount\": \"0\", \"LineTotal\": \"2024.994\"}\n",
						"{\"SalesOrderID\": \"43659\", \"SalesOrderDetailID\": \"4\", \"OrderDate\": \"5/31/2011\", \"DueDate\": \"6/12/2011\", \"ShipDate\": \"6/7/2011\", \"EmployeeID\": \"279\", \"CustomerID\": \"1045\", \"SubTotal\": \"20565.6206\", \"TaxAmt\": \"1971.5149\", \"Freight\": \"616.0984\", \"TotalDue\": \"23153.2339\", \"ProductID\": \"771\", \"OrderQty\": \"1\", \"UnitPrice\": \"2039.994\", \"UnitPriceDiscount\": \"0\", \"LineTotal\": \"2039.994\"}\n",
						"{\"SalesOrderID\": \"43659\", \"SalesOrderDetailID\": \"5\", \"OrderDate\": \"5/31/2011\", \"DueDate\": \"6/12/2011\", \"ShipDate\": \"6/7/2011\", \"EmployeeID\": \"279\", \"CustomerID\": \"1045\", \"SubTotal\": \"20565.6206\", \"TaxAmt\": \"1971.5149\", \"Freight\": \"616.0984\", \"TotalDue\": \"23153.2339\", \"ProductID\": \"772\", \"OrderQty\": \"1\", \"UnitPrice\": \"2039.994\", \"UnitPriceDiscount\": \"0\", \"LineTotal\": \"2039.994\"}\n",
						"{\"SalesOrderID\": \"43659\", \"SalesOrderDetailID\": \"6\", \"OrderDate\": \"5/31/2011\", \"DueDate\": \"6/12/2011\", \"ShipDate\": \"6/7/2011\", \"EmployeeID\": \"279\", \"CustomerID\": \"1045\", \"SubTotal\": \"20565.6206\", \"TaxAmt\": \"1971.5149\", \"Freight\": \"616.0984\", \"TotalDue\": \"23153.2339\", \"ProductID\": \"773\", \"OrderQty\": \"2\", \"UnitPrice\": \"2039.994\", \"UnitPriceDiscount\": \"0\", \"LineTotal\": \"4079.988\"}\n",
						"{\"SalesOrderID\": \"43659\", \"SalesOrderDetailID\": \"7\", \"OrderDate\": \"5/31/2011\", \"DueDate\": \"6/12/2011\", \"ShipDate\": \"6/7/2011\", \"EmployeeID\": \"279\", \"CustomerID\": \"1045\", \"SubTotal\": \"20565.6206\", \"TaxAmt\": \"1971.5149\", \"Freight\": \"616.0984\", \"TotalDue\": \"23153.2339\", \"ProductID\": \"774\", \"OrderQty\": \"1\", \"UnitPrice\": \"2039.994\", \"UnitPriceDiscount\": \"0\", \"LineTotal\": \"2039.994\"}\n",
						"{\"SalesOrderID\": \"43659\", \"SalesOrderDetailID\": \"8\", \"OrderDate\": \"5/31/2011\", \"DueDate\": \"6/12/2011\", \"ShipDate\": \"6/7/2011\", \"EmployeeID\": \"279\", \"CustomerID\": \"1045\", \"SubTotal\": \"20565.6206\", \"TaxAmt\": \"1971.5149\", \"Freight\": \"616.0984\", \"TotalDue\": \"23153.2339\", \"ProductID\": \"714\", \"OrderQty\": \"3\", \"UnitPrice\": \"28.8404\", \"UnitPriceDiscount\": \"0\", \"LineTotal\": \"86.5212\"}\n",
						"{\"SalesOrderID\": \"43659\", \"SalesOrderDetailID\": \"9\", \"OrderDate\": \"5/31/2011\", \"DueDate\": \"6/12/2011\", \"ShipDate\": \"6/7/2011\", \"EmployeeID\": \"279\", \"CustomerID\": \"1045\", \"SubTotal\": \"20565.6206\", \"TaxAmt\": \"1971.5149\", \"Freight\": \"616.0984\", \"TotalDue\": \"23153.2339\", \"ProductID\": \"716\", \"OrderQty\": \"1\", \"UnitPrice\": \"28.8404\", \"UnitPriceDiscount\": \"0\", \"LineTotal\": \"28.8404\"}\n",
						"{\"SalesOrderID\": \"43659\", \"SalesOrderDetailID\": \"10\", \"OrderDate\": \"5/31/2011\", \"DueDate\": \"6/12/2011\", \"ShipDate\": \"6/7/2011\", \"EmployeeID\": \"279\", \"CustomerID\": \"1045\", \"SubTotal\": \"20565.6206\", \"TaxAmt\": \"1971.5149\", \"Freight\": \"616.0984\", \"TotalDue\": \"23153.2339\", \"ProductID\": \"709\", \"OrderQty\": \"6\", \"UnitPrice\": \"5.7\", \"UnitPriceDiscount\": \"0\", \"LineTotal\": \"34.2\"}\n"
					]
				}
			],
			"source": [
				"dynamicFrameOrders = glueContext.create_dynamic_frame_from_options(\n",
				"    connection_type=\"s3\",\n",
				"    format=\"csv\",\n",
				"    connection_options={\n",
				"        \"paths\": [\"s3://customer-project-marzieh/inputs/orders/\"]\n",
				"    },\n",
				"    format_options={\n",
				"        \"withHeader\": True,\n",
				"        \"separator\": \",\"\n",
				"    })\n",
				"dynamicFrameOrders.show(10)"
			]
		},
		{
			"cell_type": "code",
			"execution_count": 13,
			"metadata": {
				"tags": [],
				"trusted": true,
				"vscode": {
					"languageId": "python_glue_session"
				}
			},
			"outputs": [
				{
					"name": "stdout",
					"output_type": "stream",
					"text": [
						"{\"salesorderid\": 43659, \"salesorderdetailid\": 1, \"orderdate\": \"5/31/2011\", \"duedate\": \"6/12/2011\", \"shipdate\": \"6/7/2011\", \"employeeid\": 279, \"customerid\": 1045, \"subtotal\": 20565.6206, \"taxamt\": 1971.5149, \"freight\": 616.0984, \"totaldue\": 23153.2339, \"productid\": 776, \"orderqty\": 1, \"unitprice\": 2024.994, \"unitpricediscount\": 0.0, \"linetotal\": 2024.994}\n",
						"{\"salesorderid\": 43659, \"salesorderdetailid\": 2, \"orderdate\": \"5/31/2011\", \"duedate\": \"6/12/2011\", \"shipdate\": \"6/7/2011\", \"employeeid\": 279, \"customerid\": 1045, \"subtotal\": 20565.6206, \"taxamt\": 1971.5149, \"freight\": 616.0984, \"totaldue\": 23153.2339, \"productid\": 777, \"orderqty\": 3, \"unitprice\": 2024.994, \"unitpricediscount\": 0.0, \"linetotal\": 6074.982}\n",
						"{\"salesorderid\": 43659, \"salesorderdetailid\": 3, \"orderdate\": \"5/31/2011\", \"duedate\": \"6/12/2011\", \"shipdate\": \"6/7/2011\", \"employeeid\": 279, \"customerid\": 1045, \"subtotal\": 20565.6206, \"taxamt\": 1971.5149, \"freight\": 616.0984, \"totaldue\": 23153.2339, \"productid\": 778, \"orderqty\": 1, \"unitprice\": 2024.994, \"unitpricediscount\": 0.0, \"linetotal\": 2024.994}\n",
						"{\"salesorderid\": 43659, \"salesorderdetailid\": 4, \"orderdate\": \"5/31/2011\", \"duedate\": \"6/12/2011\", \"shipdate\": \"6/7/2011\", \"employeeid\": 279, \"customerid\": 1045, \"subtotal\": 20565.6206, \"taxamt\": 1971.5149, \"freight\": 616.0984, \"totaldue\": 23153.2339, \"productid\": 771, \"orderqty\": 1, \"unitprice\": 2039.994, \"unitpricediscount\": 0.0, \"linetotal\": 2039.994}\n",
						"{\"salesorderid\": 43659, \"salesorderdetailid\": 5, \"orderdate\": \"5/31/2011\", \"duedate\": \"6/12/2011\", \"shipdate\": \"6/7/2011\", \"employeeid\": 279, \"customerid\": 1045, \"subtotal\": 20565.6206, \"taxamt\": 1971.5149, \"freight\": 616.0984, \"totaldue\": 23153.2339, \"productid\": 772, \"orderqty\": 1, \"unitprice\": 2039.994, \"unitpricediscount\": 0.0, \"linetotal\": 2039.994}\n",
						"{\"salesorderid\": 43659, \"salesorderdetailid\": 6, \"orderdate\": \"5/31/2011\", \"duedate\": \"6/12/2011\", \"shipdate\": \"6/7/2011\", \"employeeid\": 279, \"customerid\": 1045, \"subtotal\": 20565.6206, \"taxamt\": 1971.5149, \"freight\": 616.0984, \"totaldue\": 23153.2339, \"productid\": 773, \"orderqty\": 2, \"unitprice\": 2039.994, \"unitpricediscount\": 0.0, \"linetotal\": 4079.988}\n",
						"{\"salesorderid\": 43659, \"salesorderdetailid\": 7, \"orderdate\": \"5/31/2011\", \"duedate\": \"6/12/2011\", \"shipdate\": \"6/7/2011\", \"employeeid\": 279, \"customerid\": 1045, \"subtotal\": 20565.6206, \"taxamt\": 1971.5149, \"freight\": 616.0984, \"totaldue\": 23153.2339, \"productid\": 774, \"orderqty\": 1, \"unitprice\": 2039.994, \"unitpricediscount\": 0.0, \"linetotal\": 2039.994}\n",
						"{\"salesorderid\": 43659, \"salesorderdetailid\": 8, \"orderdate\": \"5/31/2011\", \"duedate\": \"6/12/2011\", \"shipdate\": \"6/7/2011\", \"employeeid\": 279, \"customerid\": 1045, \"subtotal\": 20565.6206, \"taxamt\": 1971.5149, \"freight\": 616.0984, \"totaldue\": 23153.2339, \"productid\": 714, \"orderqty\": 3, \"unitprice\": 28.8404, \"unitpricediscount\": 0.0, \"linetotal\": 86.5212}\n",
						"{\"salesorderid\": 43659, \"salesorderdetailid\": 9, \"orderdate\": \"5/31/2011\", \"duedate\": \"6/12/2011\", \"shipdate\": \"6/7/2011\", \"employeeid\": 279, \"customerid\": 1045, \"subtotal\": 20565.6206, \"taxamt\": 1971.5149, \"freight\": 616.0984, \"totaldue\": 23153.2339, \"productid\": 716, \"orderqty\": 1, \"unitprice\": 28.8404, \"unitpricediscount\": 0.0, \"linetotal\": 28.8404}\n",
						"{\"salesorderid\": 43659, \"salesorderdetailid\": 10, \"orderdate\": \"5/31/2011\", \"duedate\": \"6/12/2011\", \"shipdate\": \"6/7/2011\", \"employeeid\": 279, \"customerid\": 1045, \"subtotal\": 20565.6206, \"taxamt\": 1971.5149, \"freight\": 616.0984, \"totaldue\": 23153.2339, \"productid\": 709, \"orderqty\": 6, \"unitprice\": 5.7, \"unitpricediscount\": 0.0, \"linetotal\": 34.2}\n"
					]
				}
			],
			"source": [
				"dynamicFrameOrders = glueContext.create_dynamic_frame.from_catalog(\n",
				"database = \"customers_project\", \n",
				"table_name = \"orders\"\n",
				")\n",
				"\n",
				"dynamicFrameOrders.show(10)"
			]
		},
		{
			"cell_type": "code",
			"execution_count": 37,
			"metadata": {
				"tags": [],
				"trusted": true,
				"vscode": {
					"languageId": "python_glue_session"
				}
			},
			"outputs": [
				{
					"name": "stdout",
					"output_type": "stream",
					"text": [
						"\n"
					]
				}
			],
			"source": [
				"dyfjoin = dynamicFrameCustomers.join(\"customerid\",\"customerid\",dynamicFrameOrders)\n",
				"dyfjoin.show(10)"
			]
		},
		{
			"cell_type": "code",
			"execution_count": 31,
			"metadata": {
				"tags": [],
				"trusted": true,
				"vscode": {
					"languageId": "python_glue_session"
				}
			},
			"outputs": [
				{
					"name": "stdout",
					"output_type": "stream",
					"text": [
						"+----------+----------+-----------+--------------------+\n",
						"|customerid| firstname|   lastname|            fullname|\n",
						"+----------+----------+-----------+--------------------+\n",
						"|       293| Catherine|       Abel|      Catherine Abel|\n",
						"|       295|       Kim|Abercrombie|     Kim Abercrombie|\n",
						"|       297|  Humberto|    Acevedo|    Humberto Acevedo|\n",
						"|       291|   Gustavo|     Achong|      Gustavo Achong|\n",
						"|       299|     Pilar|   Ackerman|      Pilar Ackerman|\n",
						"|       305|     Carla|      Adams|         Carla Adams|\n",
						"|       301|   Frances|      Adams|       Frances Adams|\n",
						"|       307|       Jay|      Adams|           Jay Adams|\n",
						"|       309|    Ronald|      Adina|        Ronald Adina|\n",
						"|       311|    Samuel|   Agcaoili|     Samuel Agcaoili|\n",
						"|       313|     James|    Aguilar|       James Aguilar|\n",
						"|       315|    Robert|   Ahlering|     Robert Ahlering|\n",
						"|       319|       Kim|      Akers|           Kim Akers|\n",
						"|       441|   Stanley|       Alan|        Stanley Alan|\n",
						"|       323|       Amy|    Alberts|         Amy Alberts|\n",
						"|       325|      Anna|   Albright|       Anna Albright|\n",
						"|       327|    Milton|     Albury|       Milton Albury|\n",
						"|       329|      Paul|     Alcorn|         Paul Alcorn|\n",
						"|       331|   Gregory|   Alderson|    Gregory Alderson|\n",
						"|       333|J. Phillip|  Alexander|J. Phillip Alexander|\n",
						"+----------+----------+-----------+--------------------+\n",
						"only showing top 20 rows\n"
					]
				}
			],
			"source": [
				"# Dynamic Frame to Spark DataFrame \n",
				"sparkDf = dynamicFrameCustomers.toDF()\n",
				"sparkDf.show()"
			]
		},
		{
			"cell_type": "code",
			"execution_count": 32,
			"metadata": {
				"tags": [],
				"trusted": true,
				"vscode": {
					"languageId": "python_glue_session"
				}
			},
			"outputs": [
				{
					"name": "stdout",
					"output_type": "stream",
					"text": [
						"+----------+----------+-----------+--------------------+----------+\n",
						"|customerid| firstname|   lastname|            fullname|      date|\n",
						"+----------+----------+-----------+--------------------+----------+\n",
						"|       293| Catherine|       Abel|      Catherine Abel|2022-07-24|\n",
						"|       295|       Kim|Abercrombie|     Kim Abercrombie|2022-07-24|\n",
						"|       297|  Humberto|    Acevedo|    Humberto Acevedo|2022-07-24|\n",
						"|       291|   Gustavo|     Achong|      Gustavo Achong|2022-07-24|\n",
						"|       299|     Pilar|   Ackerman|      Pilar Ackerman|2022-07-24|\n",
						"|       305|     Carla|      Adams|         Carla Adams|2022-07-24|\n",
						"|       301|   Frances|      Adams|       Frances Adams|2022-07-24|\n",
						"|       307|       Jay|      Adams|           Jay Adams|2022-07-24|\n",
						"|       309|    Ronald|      Adina|        Ronald Adina|2022-07-24|\n",
						"|       311|    Samuel|   Agcaoili|     Samuel Agcaoili|2022-07-24|\n",
						"|       313|     James|    Aguilar|       James Aguilar|2022-07-24|\n",
						"|       315|    Robert|   Ahlering|     Robert Ahlering|2022-07-24|\n",
						"|       319|       Kim|      Akers|           Kim Akers|2022-07-24|\n",
						"|       441|   Stanley|       Alan|        Stanley Alan|2022-07-24|\n",
						"|       323|       Amy|    Alberts|         Amy Alberts|2022-07-24|\n",
						"|       325|      Anna|   Albright|       Anna Albright|2022-07-24|\n",
						"|       327|    Milton|     Albury|       Milton Albury|2022-07-24|\n",
						"|       329|      Paul|     Alcorn|         Paul Alcorn|2022-07-24|\n",
						"|       331|   Gregory|   Alderson|    Gregory Alderson|2022-07-24|\n",
						"|       333|J. Phillip|  Alexander|J. Phillip Alexander|2022-07-24|\n",
						"+----------+----------+-----------+--------------------+----------+\n",
						"only showing top 20 rows\n",
						"\n",
						"+----------+----------+-----------+--------------------+--------------------+\n",
						"|customerid| firstname|   lastname|            fullname|       new_full_name|\n",
						"+----------+----------+-----------+--------------------+--------------------+\n",
						"|       293| Catherine|       Abel|      Catherine Abel|      Catherine Abel|\n",
						"|       295|       Kim|Abercrombie|     Kim Abercrombie|     Kim Abercrombie|\n",
						"|       297|  Humberto|    Acevedo|    Humberto Acevedo|    Humberto Acevedo|\n",
						"|       291|   Gustavo|     Achong|      Gustavo Achong|      Gustavo Achong|\n",
						"|       299|     Pilar|   Ackerman|      Pilar Ackerman|      Pilar Ackerman|\n",
						"|       305|     Carla|      Adams|         Carla Adams|         Carla Adams|\n",
						"|       301|   Frances|      Adams|       Frances Adams|       Frances Adams|\n",
						"|       307|       Jay|      Adams|           Jay Adams|           Jay Adams|\n",
						"|       309|    Ronald|      Adina|        Ronald Adina|        Ronald Adina|\n",
						"|       311|    Samuel|   Agcaoili|     Samuel Agcaoili|     Samuel Agcaoili|\n",
						"|       313|     James|    Aguilar|       James Aguilar|       James Aguilar|\n",
						"|       315|    Robert|   Ahlering|     Robert Ahlering|     Robert Ahlering|\n",
						"|       319|       Kim|      Akers|           Kim Akers|           Kim Akers|\n",
						"|       441|   Stanley|       Alan|        Stanley Alan|        Stanley Alan|\n",
						"|       323|       Amy|    Alberts|         Amy Alberts|         Amy Alberts|\n",
						"|       325|      Anna|   Albright|       Anna Albright|       Anna Albright|\n",
						"|       327|    Milton|     Albury|       Milton Albury|       Milton Albury|\n",
						"|       329|      Paul|     Alcorn|         Paul Alcorn|         Paul Alcorn|\n",
						"|       331|   Gregory|   Alderson|    Gregory Alderson|    Gregory Alderson|\n",
						"|       333|J. Phillip|  Alexander|J. Phillip Alexander|J. Phillip Alexander|\n",
						"+----------+----------+-----------+--------------------+--------------------+\n",
						"only showing top 20 rows\n"
					]
				}
			],
			"source": [
				"# Add new column to spark dataframe\n",
				"dfNewColumn = sparkDf.withColumn(\"date\", lit(\"2022-07-24\"))\n",
				"dfNewColumn.show()\n",
				"\n",
				"\n",
				"\n",
				"# create another full name column\n",
				"dfNewFullName = sparkDf.withColumn(\"new_full_name\",concat(\"firstname\",concat(lit(' '),\"lastname\")))\n",
				"dfNewFullName.show()"
			]
		},
		{
			"cell_type": "code",
			"execution_count": 33,
			"metadata": {
				"tags": [],
				"trusted": true,
				"vscode": {
					"languageId": "python_glue_session"
				}
			},
			"outputs": [
				{
					"name": "stdout",
					"output_type": "stream",
					"text": [
						"+----------+---------+--------+--------------+------------+------------------+---------+---------+--------+----------+----------+----------+---------+--------+----------+---------+--------+---------+-----------------+---------+\n",
						"|customerid|firstname|lastname|fullname      |salesorderid|salesorderdetailid|orderdate|duedate  |shipdate|employeeid|customerid|subtotal  |taxamt   |freight |totaldue  |productid|orderqty|unitprice|unitpricediscount|linetotal|\n",
						"+----------+---------+--------+--------------+------------+------------------+---------+---------+--------+----------+----------+----------+---------+--------+----------+---------+--------+---------+-----------------+---------+\n",
						"|517       |Richard  |Bready  |Richard Bready|43665       |61                |5/31/2011|6/12/2011|6/7/2011|283       |517       |14352.7713|1375.9427|429.9821|16158.6961|711      |2       |20.1865  |0.0              |40.373   |\n",
						"|517       |Richard  |Bready  |Richard Bready|43665       |62                |5/31/2011|6/12/2011|6/7/2011|283       |517       |14352.7713|1375.9427|429.9821|16158.6961|773      |1       |2039.994 |0.0              |2039.994 |\n",
						"|517       |Richard  |Bready  |Richard Bready|43665       |63                |5/31/2011|6/12/2011|6/7/2011|283       |517       |14352.7713|1375.9427|429.9821|16158.6961|707      |1       |20.1865  |0.0              |20.1865  |\n",
						"|517       |Richard  |Bready  |Richard Bready|43665       |64                |5/31/2011|6/12/2011|6/7/2011|283       |517       |14352.7713|1375.9427|429.9821|16158.6961|715      |2       |28.8404  |0.0              |57.6808  |\n",
						"|517       |Richard  |Bready  |Richard Bready|43665       |65                |5/31/2011|6/12/2011|6/7/2011|283       |517       |14352.7713|1375.9427|429.9821|16158.6961|777      |2       |2024.994 |0.0              |4049.988 |\n",
						"|517       |Richard  |Bready  |Richard Bready|43665       |66                |5/31/2011|6/12/2011|6/7/2011|283       |517       |14352.7713|1375.9427|429.9821|16158.6961|712      |2       |5.1865   |0.0              |10.373   |\n",
						"|517       |Richard  |Bready  |Richard Bready|43665       |67                |5/31/2011|6/12/2011|6/7/2011|283       |517       |14352.7713|1375.9427|429.9821|16158.6961|775      |2       |2024.994 |0.0              |4049.988 |\n",
						"|517       |Richard  |Bready  |Richard Bready|43665       |68                |5/31/2011|6/12/2011|6/7/2011|283       |517       |14352.7713|1375.9427|429.9821|16158.6961|778      |1       |2024.994 |0.0              |2024.994 |\n",
						"|517       |Richard  |Bready  |Richard Bready|43665       |69                |5/31/2011|6/12/2011|6/7/2011|283       |517       |14352.7713|1375.9427|429.9821|16158.6961|709      |6       |5.7      |0.0              |34.2     |\n",
						"|517       |Richard  |Bready  |Richard Bready|43665       |70                |5/31/2011|6/12/2011|6/7/2011|283       |517       |14352.7713|1375.9427|429.9821|16158.6961|776      |1       |2024.994 |0.0              |2024.994 |\n",
						"|1405      |Steve    |Masters |Steve Masters |43854       |576               |7/1/2011 |7/13/2011|7/8/2011|282       |1405      |1749.588  |167.9604 |52.4876 |1970.036  |758      |2       |874.794  |0.0              |1749.588 |\n",
						"|1133      |Lucio    |Iallo   |Lucio Iallo   |43859       |619               |7/1/2011 |7/13/2011|7/8/2011|276       |1133      |3911.5991 |375.2443 |117.2639|4404.1073 |715      |1       |28.8404  |0.0              |28.8404  |\n",
						"|1133      |Lucio    |Iallo   |Lucio Iallo   |43859       |620               |7/1/2011 |7/13/2011|7/8/2011|276       |1133      |3911.5991 |375.2443 |117.2639|4404.1073 |762      |1       |419.4589 |0.0              |419.4589 |\n",
						"|1133      |Lucio    |Iallo   |Lucio Iallo   |43859       |621               |7/1/2011 |7/13/2011|7/8/2011|276       |1133      |3911.5991 |375.2443 |117.2639|4404.1073 |758      |3       |874.794  |0.0              |2624.382 |\n",
						"|1133      |Lucio    |Iallo   |Lucio Iallo   |43859       |622               |7/1/2011 |7/13/2011|7/8/2011|276       |1133      |3911.5991 |375.2443 |117.2639|4404.1073 |760      |2       |419.4589 |0.0              |838.9178 |\n",
						"|1935      |Lynn     |Tsoflias|Lynn Tsoflias |43876       |815               |7/1/2011 |7/13/2011|7/8/2011|275       |1935      |7135.2649 |686.9474 |214.6711|8036.8834 |762      |2       |419.4589 |0.0              |838.9178 |\n",
						"|1935      |Lynn     |Tsoflias|Lynn Tsoflias |43876       |816               |7/1/2011 |7/13/2011|7/8/2011|275       |1935      |7135.2649 |686.9474 |214.6711|8036.8834 |758      |1       |874.794  |0.0              |874.794  |\n",
						"|1935      |Lynn     |Tsoflias|Lynn Tsoflias |43876       |817               |7/1/2011 |7/13/2011|7/8/2011|275       |1935      |7135.2649 |686.9474 |214.6711|8036.8834 |763      |3       |419.4589 |0.0              |1258.3767|\n",
						"|1935      |Lynn     |Tsoflias|Lynn Tsoflias |43876       |818               |7/1/2011 |7/13/2011|7/8/2011|275       |1935      |7135.2649 |686.9474 |214.6711|8036.8834 |754      |2       |874.794  |0.0              |1749.588 |\n",
						"|1935      |Lynn     |Tsoflias|Lynn Tsoflias |43876       |819               |7/1/2011 |7/13/2011|7/8/2011|275       |1935      |7135.2649 |686.9474 |214.6711|8036.8834 |725      |2       |183.9382 |0.0              |367.8764 |\n",
						"+----------+---------+--------+--------------+------------+------------------+---------+---------+--------+----------+----------+----------+---------+--------+----------+---------+--------+---------+-----------------+---------+\n",
						"only showing top 20 rows\n"
					]
				}
			],
			"source": [
				"dfOrders = glueContext.create_dynamic_frame.from_catalog(\n",
				"                                        database = \"customers_project\", \n",
				"                                        table_name = \"orders\").toDF()\n",
				"\n",
				"\n",
				"sparkDf.join(dfOrders,sparkDf.customerid ==  dfOrders.customerid,\"inner\").show(truncate=False)"
			]
		},
		{
			"cell_type": "code",
			"execution_count": 39,
			"metadata": {
				"tags": [],
				"trusted": true,
				"vscode": {
					"languageId": "python_glue_session"
				}
			},
			"outputs": [
				{
					"name": "stdout",
					"output_type": "stream",
					"text": [
						"{\"customerid\": 293, \"firstname\": \"Catherine\", \"lastname\": \"Abel\", \"fullname\": \"Catherine Abel\"}\n",
						"{\"customerid\": 295, \"firstname\": \"Kim\", \"lastname\": \"Abercrombie\", \"fullname\": \"Kim Abercrombie\"}\n",
						"{\"customerid\": 297, \"firstname\": \"Humberto\", \"lastname\": \"Acevedo\", \"fullname\": \"Humberto Acevedo\"}\n",
						"{\"customerid\": 291, \"firstname\": \"Gustavo\", \"lastname\": \"Achong\", \"fullname\": \"Gustavo Achong\"}\n",
						"{\"customerid\": 299, \"firstname\": \"Pilar\", \"lastname\": \"Ackerman\", \"fullname\": \"Pilar Ackerman\"}\n",
						"{\"customerid\": 305, \"firstname\": \"Carla\", \"lastname\": \"Adams\", \"fullname\": \"Carla Adams\"}\n",
						"{\"customerid\": 301, \"firstname\": \"Frances\", \"lastname\": \"Adams\", \"fullname\": \"Frances Adams\"}\n",
						"{\"customerid\": 307, \"firstname\": \"Jay\", \"lastname\": \"Adams\", \"fullname\": \"Jay Adams\"}\n",
						"{\"customerid\": 309, \"firstname\": \"Ronald\", \"lastname\": \"Adina\", \"fullname\": \"Ronald Adina\"}\n",
						"{\"customerid\": 311, \"firstname\": \"Samuel\", \"lastname\": \"Agcaoili\", \"fullname\": \"Samuel Agcaoili\"}\n",
						"{\"customerid\": 313, \"firstname\": \"James\", \"lastname\": \"Aguilar\", \"fullname\": \"James Aguilar\"}\n",
						"{\"customerid\": 315, \"firstname\": \"Robert\", \"lastname\": \"Ahlering\", \"fullname\": \"Robert Ahlering\"}\n",
						"{\"customerid\": 319, \"firstname\": \"Kim\", \"lastname\": \"Akers\", \"fullname\": \"Kim Akers\"}\n",
						"{\"customerid\": 441, \"firstname\": \"Stanley\", \"lastname\": \"Alan\", \"fullname\": \"Stanley Alan\"}\n",
						"{\"customerid\": 323, \"firstname\": \"Amy\", \"lastname\": \"Alberts\", \"fullname\": \"Amy Alberts\"}\n",
						"{\"customerid\": 325, \"firstname\": \"Anna\", \"lastname\": \"Albright\", \"fullname\": \"Anna Albright\"}\n",
						"{\"customerid\": 327, \"firstname\": \"Milton\", \"lastname\": \"Albury\", \"fullname\": \"Milton Albury\"}\n",
						"{\"customerid\": 329, \"firstname\": \"Paul\", \"lastname\": \"Alcorn\", \"fullname\": \"Paul Alcorn\"}\n",
						"{\"customerid\": 331, \"firstname\": \"Gregory\", \"lastname\": \"Alderson\", \"fullname\": \"Gregory Alderson\"}\n",
						"{\"customerid\": 333, \"firstname\": \"J. Phillip\", \"lastname\": \"Alexander\", \"fullname\": \"J. Phillip Alexander\"}\n"
					]
				}
			],
			"source": [
				"#Convert from Spark Data Frame to Glue Dynamic Frame\n",
				"dyfCustomersConvert = DynamicFrame.fromDF(sparkDf, glueContext, \"convert\")\n",
				"dyfCustomersConvert.show()"
			]
		},
		{
			"cell_type": "code",
			"execution_count": 2,
			"metadata": {
				"tags": [],
				"trusted": true,
				"vscode": {
					"languageId": "python_glue_session"
				}
			},
			"outputs": [
				{
					"name": "stdout",
					"output_type": "stream",
					"text": [
						"Stopping session: 3ea40ef5-ae30-4180-8518-9416ba038a7f\n",
						"Stopped session.\n"
					]
				}
			],
			"source": [
				"## stop the current session \n",
				"%stop_session"
			]
		}
	],
	"metadata": {
		"kernelspec": {
			"display_name": "Glue PySpark",
			"language": "python",
			"name": "glue_pyspark"
		},
		"language_info": {
			"codemirror_mode": {
				"name": "python",
				"version": 3
			},
			"file_extension": ".py",
			"mimetype": "text/x-python",
			"name": "Python_Glue_Session",
			"pygments_lexer": "python3"
		}
	},
	"nbformat": 4,
	"nbformat_minor": 4
}
